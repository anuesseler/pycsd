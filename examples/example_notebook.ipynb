{
 "cells": [
  {
   "cell_type": "markdown",
   "metadata": {},
   "source": [
    "# How to use pycsd"
   ]
  },
  {
   "cell_type": "code",
   "execution_count": 1,
   "metadata": {},
   "outputs": [],
   "source": [
    "import numpy as np\n",
    "\n",
    "from numpy.linalg  import eigh\n",
    "from numpy.testing import assert_almost_equal\n",
    "from pycsd         import cs_decomp"
   ]
  },
  {
   "cell_type": "markdown",
   "metadata": {},
   "source": [
    "## Generate random unitary matrix"
   ]
  },
  {
   "cell_type": "code",
   "execution_count": 3,
   "metadata": {},
   "outputs": [],
   "source": [
    "M    = 10 # size of unitary matrix\n",
    "\n",
    "H    = np.random.rand(M,M) + 1.9j * np.random.rand(M,M)\n",
    "H    = H + H.conj().T\n",
    "D, U = eigh(H)"
   ]
  },
  {
   "cell_type": "markdown",
   "metadata": {},
   "source": [
    "## Compute CS decomposition"
   ]
  },
  {
   "cell_type": "code",
   "execution_count": 5,
   "metadata": {},
   "outputs": [
    {
     "name": "stderr",
     "output_type": "stream",
     "text": [
      "/home/alexander/phd/gaussian_construction/pycsd/pycsd.py:114: ComplexWarning: Casting complex values to real discards the imaginary part\n",
      "  signs=signs)\n"
     ]
    }
   ],
   "source": [
    "P = 5 # number of rows in upper left block\n",
    "Q = 5 # number of columns in upper left block\n",
    "\n",
    "u1, u2, v1h, v2h, theta = cs_decomp(U, P, Q)"
   ]
  },
  {
   "cell_type": "markdown",
   "metadata": {},
   "source": [
    "## Verify decomposition"
   ]
  },
  {
   "cell_type": "code",
   "execution_count": 7,
   "metadata": {},
   "outputs": [],
   "source": [
    "decimals = 15 # desired precision\n",
    "\n",
    "UD = np.vstack((np.hstack((u1,np.zeros((P, M-P)))),\n",
    "                np.hstack((np.zeros((M-P, P)),u2))))\n",
    "\n",
    "VDH = np.vstack((np.hstack((v1h,np.zeros((Q, M-Q)))),\n",
    "                 np.hstack((np.zeros((M-Q, Q)),v2h))))\n",
    "\n",
    "C  = np.diag(np.cos(theta))\n",
    "S  = np.diag(np.sin(theta))\n",
    "CS = np.vstack((np.hstack((C, -S)), np.hstack((S,C))))\n",
    "\n",
    "assert_almost_equal(U, UD @ CS @ VDH, decimals)"
   ]
  },
  {
   "cell_type": "code",
   "execution_count": null,
   "metadata": {},
   "outputs": [],
   "source": []
  }
 ],
 "metadata": {
  "kernelspec": {
   "display_name": "Python 3",
   "language": "python",
   "name": "python3"
  },
  "language_info": {
   "codemirror_mode": {
    "name": "ipython",
    "version": 3
   },
   "file_extension": ".py",
   "mimetype": "text/x-python",
   "name": "python",
   "nbconvert_exporter": "python",
   "pygments_lexer": "ipython3",
   "version": "3.7.3"
  }
 },
 "nbformat": 4,
 "nbformat_minor": 2
}
